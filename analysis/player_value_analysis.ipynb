{
 "cells": [
  {
   "cell_type": "markdown",
   "metadata": {},
   "source": [
    "# Analysis of player salaries and their value\n",
    "\n",
    "## Goal\n",
    "\n",
    "- Understand trends of any league wide biases towards particular positions\n",
    "- Try to tease out the difference between salary and value"
   ]
  },
  {
   "cell_type": "code",
   "execution_count": 1,
   "metadata": {},
   "outputs": [],
   "source": [
    "import pandas as pd\n",
    "from ottoneu import data"
   ]
  },
  {
   "cell_type": "code",
   "execution_count": 5,
   "metadata": {},
   "outputs": [],
   "source": [
    "roster = data.roster_data(366)"
   ]
  },
  {
   "cell_type": "markdown",
   "metadata": {},
   "source": [
    "roster.Salary = roster.Salary.str.replace(',','').str.replace('$','').astype('float')"
   ]
  },
  {
   "cell_type": "code",
   "execution_count": 2,
   "metadata": {},
   "outputs": [],
   "source": [
    "player_value = data.player_values(\"1QhcGfaDOOTNHI84uSE_zZVSw0isQusg3eOc4MntB_bE\", \"4x4\")"
   ]
  },
  {
   "cell_type": "markdown",
   "metadata": {},
   "source": [
    "player_value.dropna(axis=1, how=\"all\", inplace=True)"
   ]
  },
  {
   "cell_type": "markdown",
   "metadata": {},
   "source": [
    "player_value.rename(columns={\"$\":\"value\"}, inplace=True)"
   ]
  },
  {
   "cell_type": "markdown",
   "metadata": {},
   "source": [
    "player_value.value = player_value.value.str.replace(',','').str.replace('$','').astype('float')\n"
   ]
  },
  {
   "cell_type": "markdown",
   "metadata": {},
   "source": [
    "player_value.dropna(axis=0,how=\"any\", inplace=True)"
   ]
  },
  {
   "cell_type": "markdown",
   "metadata": {},
   "source": [
    "player_value.otto = player_value.otto.astype(\"int\")"
   ]
  },
  {
   "cell_type": "code",
   "execution_count": 3,
   "metadata": {},
   "outputs": [
    {
     "data": {
      "text/html": [
       "<div>\n",
       "<style scoped>\n",
       "    .dataframe tbody tr th:only-of-type {\n",
       "        vertical-align: middle;\n",
       "    }\n",
       "\n",
       "    .dataframe tbody tr th {\n",
       "        vertical-align: top;\n",
       "    }\n",
       "\n",
       "    .dataframe thead th {\n",
       "        text-align: right;\n",
       "    }\n",
       "</style>\n",
       "<table border=\"1\" class=\"dataframe\">\n",
       "  <thead>\n",
       "    <tr style=\"text-align: right;\">\n",
       "      <th></th>\n",
       "      <th>otto</th>\n",
       "      <th>Pos</th>\n",
       "    </tr>\n",
       "  </thead>\n",
       "  <tbody>\n",
       "    <tr>\n",
       "      <th>0</th>\n",
       "      <td>14294</td>\n",
       "      <td>SP</td>\n",
       "    </tr>\n",
       "    <tr>\n",
       "      <th>1</th>\n",
       "      <td>6305</td>\n",
       "      <td>OF</td>\n",
       "    </tr>\n",
       "    <tr>\n",
       "      <th>2</th>\n",
       "      <td>23717</td>\n",
       "      <td>OF</td>\n",
       "    </tr>\n",
       "    <tr>\n",
       "      <th>3</th>\n",
       "      <td>18116</td>\n",
       "      <td>SP</td>\n",
       "    </tr>\n",
       "    <tr>\n",
       "      <th>4</th>\n",
       "      <td>23814</td>\n",
       "      <td>SP</td>\n",
       "    </tr>\n",
       "  </tbody>\n",
       "</table>\n",
       "</div>"
      ],
      "text/plain": [
       "    otto Pos\n",
       "0  14294  SP\n",
       "1   6305  OF\n",
       "2  23717  OF\n",
       "3  18116  SP\n",
       "4  23814  SP"
      ]
     },
     "execution_count": 3,
     "metadata": {},
     "output_type": "execute_result"
    }
   ],
   "source": [
    "player_value.head()"
   ]
  },
  {
   "cell_type": "markdown",
   "metadata": {},
   "source": [
    "roster.dtypes"
   ]
  },
  {
   "cell_type": "markdown",
   "metadata": {},
   "source": [
    "roster.head()"
   ]
  },
  {
   "cell_type": "markdown",
   "metadata": {},
   "source": [
    "player_value.dtypes"
   ]
  },
  {
   "cell_type": "code",
   "execution_count": 6,
   "metadata": {},
   "outputs": [
    {
     "data": {
      "text/html": [
       "<div>\n",
       "<style scoped>\n",
       "    .dataframe tbody tr th:only-of-type {\n",
       "        vertical-align: middle;\n",
       "    }\n",
       "\n",
       "    .dataframe tbody tr th {\n",
       "        vertical-align: top;\n",
       "    }\n",
       "\n",
       "    .dataframe thead th {\n",
       "        text-align: right;\n",
       "    }\n",
       "</style>\n",
       "<table border=\"1\" class=\"dataframe\">\n",
       "  <thead>\n",
       "    <tr style=\"text-align: right;\">\n",
       "      <th></th>\n",
       "      <th>TeamID</th>\n",
       "      <th>Team Name</th>\n",
       "      <th>ottoneu ID</th>\n",
       "      <th>FG MajorLeagueID</th>\n",
       "      <th>FG MinorLeagueID</th>\n",
       "      <th>Name</th>\n",
       "      <th>MLB Team</th>\n",
       "      <th>Position(s)</th>\n",
       "      <th>Salary</th>\n",
       "      <th>otto</th>\n",
       "      <th>Pos</th>\n",
       "    </tr>\n",
       "  </thead>\n",
       "  <tbody>\n",
       "    <tr>\n",
       "      <th>0</th>\n",
       "      <td>2588</td>\n",
       "      <td>Otto-da-fé</td>\n",
       "      <td>33600</td>\n",
       "      <td>19755.0</td>\n",
       "      <td>NaN</td>\n",
       "      <td>Shohei Ohtani</td>\n",
       "      <td>LAA</td>\n",
       "      <td>Util/SP</td>\n",
       "      <td>44.0</td>\n",
       "      <td>33600</td>\n",
       "      <td>UTIL</td>\n",
       "    </tr>\n",
       "    <tr>\n",
       "      <th>1</th>\n",
       "      <td>2588</td>\n",
       "      <td>Otto-da-fé</td>\n",
       "      <td>33600</td>\n",
       "      <td>19755.0</td>\n",
       "      <td>NaN</td>\n",
       "      <td>Shohei Ohtani</td>\n",
       "      <td>LAA</td>\n",
       "      <td>Util/SP</td>\n",
       "      <td>44.0</td>\n",
       "      <td>33600</td>\n",
       "      <td>SP</td>\n",
       "    </tr>\n",
       "    <tr>\n",
       "      <th>2</th>\n",
       "      <td>2588</td>\n",
       "      <td>Otto-da-fé</td>\n",
       "      <td>18116</td>\n",
       "      <td>13125.0</td>\n",
       "      <td>sa454389</td>\n",
       "      <td>Gerrit Cole</td>\n",
       "      <td>NYY</td>\n",
       "      <td>SP</td>\n",
       "      <td>42.0</td>\n",
       "      <td>18116</td>\n",
       "      <td>SP</td>\n",
       "    </tr>\n",
       "    <tr>\n",
       "      <th>3</th>\n",
       "      <td>2588</td>\n",
       "      <td>Otto-da-fé</td>\n",
       "      <td>13117</td>\n",
       "      <td>12161.0</td>\n",
       "      <td>sa550735</td>\n",
       "      <td>Xander Bogaerts</td>\n",
       "      <td>BOS</td>\n",
       "      <td>SS</td>\n",
       "      <td>33.0</td>\n",
       "      <td>13117</td>\n",
       "      <td>SS</td>\n",
       "    </tr>\n",
       "    <tr>\n",
       "      <th>4</th>\n",
       "      <td>2588</td>\n",
       "      <td>Otto-da-fé</td>\n",
       "      <td>18188</td>\n",
       "      <td>14128.0</td>\n",
       "      <td>sa657856</td>\n",
       "      <td>Joey Gallo</td>\n",
       "      <td>NYY</td>\n",
       "      <td>OF</td>\n",
       "      <td>23.0</td>\n",
       "      <td>18188</td>\n",
       "      <td>OF</td>\n",
       "    </tr>\n",
       "    <tr>\n",
       "      <th>...</th>\n",
       "      <td>...</td>\n",
       "      <td>...</td>\n",
       "      <td>...</td>\n",
       "      <td>...</td>\n",
       "      <td>...</td>\n",
       "      <td>...</td>\n",
       "      <td>...</td>\n",
       "      <td>...</td>\n",
       "      <td>...</td>\n",
       "      <td>...</td>\n",
       "      <td>...</td>\n",
       "    </tr>\n",
       "    <tr>\n",
       "      <th>262</th>\n",
       "      <td>3063</td>\n",
       "      <td>Bobby's Cox</td>\n",
       "      <td>18424</td>\n",
       "      <td>12859.0</td>\n",
       "      <td>sa577015</td>\n",
       "      <td>James McCann</td>\n",
       "      <td>NYM</td>\n",
       "      <td>C/1B</td>\n",
       "      <td>5.0</td>\n",
       "      <td>18424</td>\n",
       "      <td>C</td>\n",
       "    </tr>\n",
       "    <tr>\n",
       "      <th>263</th>\n",
       "      <td>3063</td>\n",
       "      <td>Bobby's Cox</td>\n",
       "      <td>9335</td>\n",
       "      <td>9132.0</td>\n",
       "      <td>sa455169</td>\n",
       "      <td>Nathan Eovaldi</td>\n",
       "      <td>BOS</td>\n",
       "      <td>SP</td>\n",
       "      <td>5.0</td>\n",
       "      <td>9335</td>\n",
       "      <td>SP</td>\n",
       "    </tr>\n",
       "    <tr>\n",
       "      <th>264</th>\n",
       "      <td>3063</td>\n",
       "      <td>Bobby's Cox</td>\n",
       "      <td>6320</td>\n",
       "      <td>10243.0</td>\n",
       "      <td>sa500734</td>\n",
       "      <td>Randal Grichuk</td>\n",
       "      <td>TOR</td>\n",
       "      <td>OF</td>\n",
       "      <td>3.0</td>\n",
       "      <td>6320</td>\n",
       "      <td>OF</td>\n",
       "    </tr>\n",
       "    <tr>\n",
       "      <th>265</th>\n",
       "      <td>3063</td>\n",
       "      <td>Bobby's Cox</td>\n",
       "      <td>8583</td>\n",
       "      <td>5827.0</td>\n",
       "      <td>sa455617</td>\n",
       "      <td>Wilmer Flores</td>\n",
       "      <td>SFG</td>\n",
       "      <td>1B/2B/3B</td>\n",
       "      <td>3.0</td>\n",
       "      <td>8583</td>\n",
       "      <td>2B</td>\n",
       "    </tr>\n",
       "    <tr>\n",
       "      <th>266</th>\n",
       "      <td>3063</td>\n",
       "      <td>Bobby's Cox</td>\n",
       "      <td>18257</td>\n",
       "      <td>15873.0</td>\n",
       "      <td>sa709610</td>\n",
       "      <td>Sean Manaea</td>\n",
       "      <td>OAK</td>\n",
       "      <td>SP</td>\n",
       "      <td>3.0</td>\n",
       "      <td>18257</td>\n",
       "      <td>SP</td>\n",
       "    </tr>\n",
       "  </tbody>\n",
       "</table>\n",
       "<p>267 rows × 11 columns</p>\n",
       "</div>"
      ],
      "text/plain": [
       "     TeamID    Team Name  ottoneu ID  FG MajorLeagueID FG MinorLeagueID  \\\n",
       "0      2588   Otto-da-fé       33600           19755.0              NaN   \n",
       "1      2588   Otto-da-fé       33600           19755.0              NaN   \n",
       "2      2588   Otto-da-fé       18116           13125.0         sa454389   \n",
       "3      2588   Otto-da-fé       13117           12161.0         sa550735   \n",
       "4      2588   Otto-da-fé       18188           14128.0         sa657856   \n",
       "..      ...          ...         ...               ...              ...   \n",
       "262    3063  Bobby's Cox       18424           12859.0         sa577015   \n",
       "263    3063  Bobby's Cox        9335            9132.0         sa455169   \n",
       "264    3063  Bobby's Cox        6320           10243.0         sa500734   \n",
       "265    3063  Bobby's Cox        8583            5827.0         sa455617   \n",
       "266    3063  Bobby's Cox       18257           15873.0         sa709610   \n",
       "\n",
       "                Name MLB Team Position(s)  Salary   otto   Pos  \n",
       "0      Shohei Ohtani      LAA     Util/SP    44.0  33600  UTIL  \n",
       "1      Shohei Ohtani      LAA     Util/SP    44.0  33600    SP  \n",
       "2        Gerrit Cole      NYY          SP    42.0  18116    SP  \n",
       "3    Xander Bogaerts      BOS          SS    33.0  13117    SS  \n",
       "4         Joey Gallo      NYY          OF    23.0  18188    OF  \n",
       "..               ...      ...         ...     ...    ...   ...  \n",
       "262     James McCann      NYM        C/1B     5.0  18424     C  \n",
       "263   Nathan Eovaldi      BOS          SP     5.0   9335    SP  \n",
       "264   Randal Grichuk      TOR          OF     3.0   6320    OF  \n",
       "265    Wilmer Flores      SFG    1B/2B/3B     3.0   8583    2B  \n",
       "266      Sean Manaea      OAK          SP     3.0  18257    SP  \n",
       "\n",
       "[267 rows x 11 columns]"
      ]
     },
     "execution_count": 6,
     "metadata": {},
     "output_type": "execute_result"
    }
   ],
   "source": [
    "roster.merge(player_value, how=\"inner\", left_on=\"ottoneu ID\", right_on=\"otto\", validate=\"1:m\")"
   ]
  },
  {
   "cell_type": "code",
   "execution_count": null,
   "metadata": {},
   "outputs": [],
   "source": []
  }
 ],
 "metadata": {
  "interpreter": {
   "hash": "c565701398f41a1d2af3d8a4b8898cd9d48285397a99932bd733fdd5a09d229f"
  },
  "kernelspec": {
   "display_name": "Python 3.8.8 64-bit ('.venv': poetry)",
   "language": "python",
   "name": "python3"
  },
  "language_info": {
   "codemirror_mode": {
    "name": "ipython",
    "version": 3
   },
   "file_extension": ".py",
   "mimetype": "text/x-python",
   "name": "python",
   "nbconvert_exporter": "python",
   "pygments_lexer": "ipython3",
   "version": "3.8.8"
  },
  "orig_nbformat": 4
 },
 "nbformat": 4,
 "nbformat_minor": 2
}
